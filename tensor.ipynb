{
 "cells": [
  {
   "cell_type": "code",
   "execution_count": 47,
   "metadata": {},
   "outputs": [],
   "source": [
    "import tensorflow as tf\n",
    "from tensorflow.keras import layers, models\n",
    "from sklearn.datasets import load_wine\n",
    "from sklearn.model_selection import train_test_split\n",
    "from sklearn.preprocessing import StandardScaler\n",
    "import matplotlib.pyplot as plt"
   ]
  },
  {
   "cell_type": "code",
   "execution_count": 23,
   "metadata": {},
   "outputs": [],
   "source": [
    "# Create TensorBoard callback\n",
    "tensorboard_callback = tf.keras.callbacks.TensorBoard(log_dir=\"logs\")"
   ]
  },
  {
   "cell_type": "code",
   "execution_count": 25,
   "metadata": {},
   "outputs": [],
   "source": [
    "wine = load_wine()\n",
    "X, y = wine.data, wine.target"
   ]
  },
  {
   "cell_type": "code",
   "execution_count": 26,
   "metadata": {},
   "outputs": [],
   "source": [
    "# Split the data into training and test sets\n",
    "X_train, X_test, y_train, y_test = train_test_split(X, y, test_size=0.3, random_state=42)"
   ]
  },
  {
   "cell_type": "code",
   "execution_count": 27,
   "metadata": {},
   "outputs": [],
   "source": [
    "scaler = StandardScaler()\n",
    "X_train_standardized = scaler.fit_transform(X_train)\n",
    "X_test_standardized = scaler.transform(X_test)"
   ]
  },
  {
   "cell_type": "code",
   "execution_count": 55,
   "metadata": {},
   "outputs": [
    {
     "name": "stdout",
     "output_type": "stream",
     "text": [
      "Model: \"sequential_3\"\n",
      "_________________________________________________________________\n",
      " Layer (type)                Output Shape              Param #   \n",
      "=================================================================\n",
      " dense_9 (Dense)             (None, 64)                896       \n",
      "                                                                 \n",
      " dense_10 (Dense)            (None, 32)                2080      \n",
      "                                                                 \n",
      " dense_11 (Dense)            (None, 32)                1056      \n",
      "                                                                 \n",
      " dense_12 (Dense)            (None, 1)                 33        \n",
      "                                                                 \n",
      "=================================================================\n",
      "Total params: 4065 (15.88 KB)\n",
      "Trainable params: 4065 (15.88 KB)\n",
      "Non-trainable params: 0 (0.00 Byte)\n",
      "_________________________________________________________________\n"
     ]
    }
   ],
   "source": [
    "model = tf.keras.Sequential([\n",
    "    tf.keras.layers.Dense(64, activation='relu', input_dim=X_train.shape[1]),\n",
    "    tf.keras.layers.Dense(32, activation='relu'),\n",
    "    tf.keras.layers.Dense(32, activation='relu'),\n",
    "    tf.keras.layers.Dense(1, activation='sigmoid')\n",
    "])\n",
    "\n",
    "model.summary()"
   ]
  },
  {
   "cell_type": "code",
   "execution_count": 56,
   "metadata": {},
   "outputs": [],
   "source": [
    "model.compile(optimizer=tf.keras.optimizers.Adam(learning_rate=0.001),\n",
    "              loss=tf.keras.losses.BinaryCrossentropy(),\n",
    "              metrics=['accuracy'])"
   ]
  },
  {
   "cell_type": "code",
   "execution_count": 57,
   "metadata": {},
   "outputs": [
    {
     "name": "stdout",
     "output_type": "stream",
     "text": [
      "Epoch 1/20\n",
      "4/4 [==============================] - 2s 88ms/step - loss: 0.5014 - accuracy: 0.5000 - val_loss: 0.4363 - val_accuracy: 0.5741\n",
      "Epoch 2/20\n",
      "4/4 [==============================] - 0s 19ms/step - loss: 0.3105 - accuracy: 0.5968 - val_loss: 0.2766 - val_accuracy: 0.6481\n",
      "Epoch 3/20\n",
      "4/4 [==============================] - 0s 23ms/step - loss: 0.1512 - accuracy: 0.6371 - val_loss: 0.1228 - val_accuracy: 0.6481\n",
      "Epoch 4/20\n",
      "4/4 [==============================] - 0s 16ms/step - loss: -0.0069 - accuracy: 0.6452 - val_loss: -0.0354 - val_accuracy: 0.6667\n",
      "Epoch 5/20\n",
      "4/4 [==============================] - 0s 18ms/step - loss: -0.1880 - accuracy: 0.6452 - val_loss: -0.2081 - val_accuracy: 0.6852\n",
      "Epoch 6/20\n",
      "4/4 [==============================] - 0s 15ms/step - loss: -0.3664 - accuracy: 0.6855 - val_loss: -0.4074 - val_accuracy: 0.6852\n",
      "Epoch 7/20\n",
      "4/4 [==============================] - 0s 16ms/step - loss: -0.6035 - accuracy: 0.6935 - val_loss: -0.6327 - val_accuracy: 0.6852\n",
      "Epoch 8/20\n",
      "4/4 [==============================] - 0s 20ms/step - loss: -0.8495 - accuracy: 0.6935 - val_loss: -0.8983 - val_accuracy: 0.7037\n",
      "Epoch 9/20\n",
      "4/4 [==============================] - 0s 16ms/step - loss: -1.1652 - accuracy: 0.6935 - val_loss: -1.2069 - val_accuracy: 0.7037\n",
      "Epoch 10/20\n",
      "4/4 [==============================] - 0s 20ms/step - loss: -1.5151 - accuracy: 0.7016 - val_loss: -1.5768 - val_accuracy: 0.7037\n",
      "Epoch 11/20\n",
      "4/4 [==============================] - 0s 15ms/step - loss: -1.9531 - accuracy: 0.7016 - val_loss: -2.0077 - val_accuracy: 0.7037\n",
      "Epoch 12/20\n",
      "4/4 [==============================] - 0s 16ms/step - loss: -2.4057 - accuracy: 0.7016 - val_loss: -2.5288 - val_accuracy: 0.7037\n",
      "Epoch 13/20\n",
      "4/4 [==============================] - 0s 15ms/step - loss: -3.0986 - accuracy: 0.7016 - val_loss: -3.1173 - val_accuracy: 0.7037\n",
      "Epoch 14/20\n",
      "4/4 [==============================] - 0s 16ms/step - loss: -3.6826 - accuracy: 0.7016 - val_loss: -3.8401 - val_accuracy: 0.7037\n",
      "Epoch 15/20\n",
      "4/4 [==============================] - 0s 18ms/step - loss: -4.6143 - accuracy: 0.7016 - val_loss: -4.6702 - val_accuracy: 0.7037\n",
      "Epoch 16/20\n",
      "4/4 [==============================] - 0s 16ms/step - loss: -5.5244 - accuracy: 0.7016 - val_loss: -5.6767 - val_accuracy: 0.7037\n",
      "Epoch 17/20\n",
      "4/4 [==============================] - 0s 15ms/step - loss: -6.6692 - accuracy: 0.7016 - val_loss: -6.8859 - val_accuracy: 0.7037\n",
      "Epoch 18/20\n",
      "4/4 [==============================] - 0s 21ms/step - loss: -8.0863 - accuracy: 0.7097 - val_loss: -8.3346 - val_accuracy: 0.7037\n",
      "Epoch 19/20\n",
      "4/4 [==============================] - 0s 26ms/step - loss: -9.7828 - accuracy: 0.7097 - val_loss: -10.0562 - val_accuracy: 0.7037\n",
      "Epoch 20/20\n",
      "4/4 [==============================] - 0s 20ms/step - loss: -11.9167 - accuracy: 0.7097 - val_loss: -12.0768 - val_accuracy: 0.7037\n"
     ]
    }
   ],
   "source": [
    "history = model.fit(X_train_standardized, y_train, epochs=20, batch_size=32, validation_data=(X_test_standardized, y_test), callbacks=[tensorboard_callback])"
   ]
  },
  {
   "cell_type": "code",
   "execution_count": 58,
   "metadata": {},
   "outputs": [
    {
     "name": "stderr",
     "output_type": "stream",
     "text": [
      "/home/rendika/Documents/code/AI/tugas/tensortgs/lib/python3.8/site-packages/keras/src/engine/training.py:3000: UserWarning: You are saving your model as an HDF5 file via `model.save()`. This file format is considered legacy. We recommend using instead the native Keras format, e.g. `model.save('my_model.keras')`.\n",
      "  saving_api.save_model(\n"
     ]
    }
   ],
   "source": [
    "model.save('model_wine.h5')"
   ]
  },
  {
   "cell_type": "code",
   "execution_count": 59,
   "metadata": {},
   "outputs": [],
   "source": [
    "# Load the saved model\n",
    "load_model = tf.keras.models.load_model('model_wine.h5')"
   ]
  },
  {
   "cell_type": "code",
   "execution_count": 60,
   "metadata": {},
   "outputs": [
    {
     "name": "stdout",
     "output_type": "stream",
     "text": [
      "2/2 [==============================] - 0s 4ms/step - loss: -12.0768 - accuracy: 0.7037\n",
      "Test accuracy: 0.7037037014961243\n"
     ]
    }
   ],
   "source": [
    "test_loss, test_acc = load_model.evaluate(X_test_standardized, y_test)\n",
    "print(f'Test accuracy: {test_acc}')"
   ]
  },
  {
   "cell_type": "code",
   "execution_count": 1,
   "metadata": {},
   "outputs": [
    {
     "ename": "NameError",
     "evalue": "name 'plt' is not defined",
     "output_type": "error",
     "traceback": [
      "\u001b[0;31m---------------------------------------------------------------------------\u001b[0m",
      "\u001b[0;31mNameError\u001b[0m                                 Traceback (most recent call last)",
      "\u001b[1;32m/home/rendika/Documents/code/AI/tugas/tensor.ipynb Cell 12\u001b[0m line \u001b[0;36m2\n\u001b[1;32m      <a href='vscode-notebook-cell:/home/rendika/Documents/code/AI/tugas/tensor.ipynb#X14sZmlsZQ%3D%3D?line=0'>1</a>\u001b[0m \u001b[39m# Plot training history\u001b[39;00m\n\u001b[0;32m----> <a href='vscode-notebook-cell:/home/rendika/Documents/code/AI/tugas/tensor.ipynb#X14sZmlsZQ%3D%3D?line=1'>2</a>\u001b[0m plt\u001b[39m.\u001b[39mfigure(figsize\u001b[39m=\u001b[39m(\u001b[39m12\u001b[39m, \u001b[39m5\u001b[39m))\n\u001b[1;32m      <a href='vscode-notebook-cell:/home/rendika/Documents/code/AI/tugas/tensor.ipynb#X14sZmlsZQ%3D%3D?line=3'>4</a>\u001b[0m \u001b[39m# Plot training & validation loss values\u001b[39;00m\n\u001b[1;32m      <a href='vscode-notebook-cell:/home/rendika/Documents/code/AI/tugas/tensor.ipynb#X14sZmlsZQ%3D%3D?line=4'>5</a>\u001b[0m plt\u001b[39m.\u001b[39msubplot(\u001b[39m1\u001b[39m, \u001b[39m2\u001b[39m, \u001b[39m1\u001b[39m)\n",
      "\u001b[0;31mNameError\u001b[0m: name 'plt' is not defined"
     ]
    }
   ],
   "source": [
    "# Plot training history\n",
    "plt.figure(figsize=(12, 5))\n",
    "\n",
    "# Plot training & validation loss values\n",
    "plt.subplot(1, 2, 1)\n",
    "plt.plot(history.history['loss'])\n",
    "plt.plot(history.history['val_loss'])\n",
    "plt.title('Model Loss')\n",
    "plt.xlabel('Epoch')\n",
    "plt.ylabel('Loss')\n",
    "plt.legend(['Train', 'Validation'], loc='upper right')\n",
    "\n",
    "# Plot training & validation accuracy values\n",
    "plt.subplot(1, 2, 2)\n",
    "plt.plot(history.history['accuracy'])\n",
    "plt.plot(history.history['val_accuracy'])\n",
    "plt.title('Model Accuracy')\n",
    "plt.xlabel('Epoch')\n",
    "plt.ylabel('Accuracy')\n",
    "plt.legend(['Train', 'Validation'], loc='lower right')\n",
    "\n",
    "plt.tight_layout()\n",
    "\n",
    "# Save the plot to a file (e.g., PNG)\n",
    "plt.savefig('training_plot.png')"
   ]
  },
  {
   "cell_type": "code",
   "execution_count": 63,
   "metadata": {},
   "outputs": [
    {
     "name": "stdout",
     "output_type": "stream",
     "text": [
      "Number of features: 13\n",
      "Number of labels: 3\n"
     ]
    }
   ],
   "source": [
    "# Assuming X is your feature matrix and y is your target variable\n",
    "num_features = X.shape[1]  # Number of columns in X (assuming features are in columns)\n",
    "num_labels = np.unique(y).shape[0]  # Number of unique labels in y\n",
    "\n",
    "print(\"Number of features:\", num_features)\n",
    "print(\"Number of labels:\", num_labels)"
   ]
  },
  {
   "cell_type": "code",
   "execution_count": 64,
   "metadata": {},
   "outputs": [
    {
     "name": "stdout",
     "output_type": "stream",
     "text": [
      "4065\n"
     ]
    }
   ],
   "source": [
    "total_weights = model.count_params()\n",
    "print(total_weights)"
   ]
  },
  {
   "cell_type": "code",
   "execution_count": null,
   "metadata": {},
   "outputs": [],
   "source": []
  }
 ],
 "metadata": {
  "kernelspec": {
   "display_name": "base",
   "language": "python",
   "name": "python3"
  },
  "language_info": {
   "codemirror_mode": {
    "name": "ipython",
    "version": 3
   },
   "file_extension": ".py",
   "mimetype": "text/x-python",
   "name": "python",
   "nbconvert_exporter": "python",
   "pygments_lexer": "ipython3",
   "version": "3.8.18"
  },
  "orig_nbformat": 4
 },
 "nbformat": 4,
 "nbformat_minor": 2
}
